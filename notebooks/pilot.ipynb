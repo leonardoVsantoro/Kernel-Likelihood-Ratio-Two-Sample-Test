{
 "cells": [
  {
   "cell_type": "markdown",
   "metadata": {},
   "source": [
    "# Regularised Kernel Likelihood Ratio for Two Sample Testing"
   ]
  },
  {
   "cell_type": "markdown",
   "metadata": {},
   "source": [
    "This notebook introduces the RKLR library — a Python implementation of the **Regularized Kernel Likelihood Ratio Test** for comparing two distributions. \n",
    "\n",
    "* [Santoro, Waghmare and Panaretos (2025) \"From Two Sample Testing to Singular Gaussian Discrimination\"](https://arxiv.org/abs/2505.04613)\n",
    "* [Santoro, Waghmare and Panaretos (2025) \"Likelihood Ratio Tests via Kernel Embeddings]()\n",
    "\n",
    "\n",
    "This method:\n",
    "* Solves the two-sample testing problem by leveraging kernel-based estimation, and employs a regularised likelihood ratio test statistic.\n",
    "\n",
    "* The method is adaptive in selecting the kernel bandwidth and regularization parameter for optimal performance\n",
    "\n"
   ]
  },
  {
   "cell_type": "markdown",
   "metadata": {
    "vscode": {
     "languageId": "markdown"
    }
   },
   "source": [
    "\n",
    "## Table of Contents\n",
    "\n",
    "[Introduction](#regularised-kernel-likelihood-ratio-for-two-sample-testing)\n",
    "\n",
    "📚  [Theory](#theory)\n",
    "\n",
    "🔧  [Implementation](#implementation-adaptive-test-and-calibration)\n",
    "\n",
    "🧩 [Library Components](#library-components)\n",
    "\n",
    "🚨 [Example Usage](#example-usage) 🚨\n",
    "\n"
   ]
  },
  {
   "cell_type": "markdown",
   "metadata": {},
   "source": [
    "\n",
    "\n",
    "## 📚 Theory\n",
    "The procedure relies on the observation that testing for the equality of probability distributions can be translated to testing for the *mutual singularity* of  **suitable Gaussian measures** on a RKHS. That is:\n",
    "$$\n",
    "P \\neq Q \\Longleftrightarrow \\mathcal{N}_P \\perp \\mathcal{N}_Q\n",
    "$$\n",
    "where $\\mathcal{N}_P$ is the gaussian measure with mean and covariance given by $E[k_X]$ and $E[k_X\\otimes k_X]$, respectively, for $X\\sim P$ and $k_X$ the kernel feature map.\n",
    "\n",
    "In light of this, we naturally consider as test statistic the empirical regularized Kullblack-Leibler divergence  between the kernel Gaussian embeddings $\\mathcal{N}_P$ and $\\mathcal{N}_P$, namely  $D_{\\gamma, \\mathrm{KL}} \\big( \\mathcal{N}_{P} \\:||\\:  \\mathcal{N}_{P} \\big) $\n",
    "for some **regularisation parameter** $\\gamma$ .\n",
    "\n",
    "<!-- $$\n",
    "    D_{\\gamma, \\mathrm{KL}} \\big( \\mathcal{N}_{P} \\:||\\:  \\mathcal{N}_{P} \\big) \n",
    "    =\n",
    "    \\frac{1}{2}\\| (S_{Q} + \\gamma I)^{-\\frac{1}{2}} (m_{P} - m_{Q}) \\|^2 \n",
    "     +  \\frac{1}{2}d_{\\textrm{logdet}}^1(S_{P} + \\gamma I,S_{Q} + \\gamma I) \n",
    "$$ -->\n",
    "\n",
    "\n",
    "### 🔧 Implementation: adaptive test and calibration\n",
    "Given i.i.d. samples $X_1,\\dots,X_n \\sim P$ and $Y_1,\\dots,Y_m\\sim Q$, all quantities appearing in the above expression are estimated from (linear/quadratic forms of) the kernel matrices. Defining:\n",
    "$$\n",
    "    m_X = \\frac{1}{n}\\begin{bmatrix}\n",
    "        K_{xx}\\mathbf{1}_{n} \\\\\n",
    "        K_{xy}\\mathbf{1}_{n}\n",
    "    \\end{bmatrix} \\qquad \\quad\n",
    "    m_Y = \\frac{1}{m}\\begin{bmatrix}\n",
    "        K_{yx}\\mathbf{1}_{m} \\\\\n",
    "        K_{yy}\\mathbf{1}_{m}\n",
    "    \\end{bmatrix}\n",
    "$$\n",
    "$$\n",
    "S_X = \n",
    "\\frac{1}{n}\\begin{bmatrix}\n",
    "K_{xx}^{\\phantom{\\top}}K_{xx}^\\top & K_{xx}^{\\phantom{\\top}}K_{yx}^\\top \\\\\n",
    "K_{yx}^{\\phantom{\\top}}K_{xx}^\\top & K_{yx}^{\\phantom{\\top}}K_{yx}^\\top\n",
    "\\end{bmatrix} \\qquad\\quad\n",
    "S_Y = \\,\n",
    "\\frac{1}{m} \\, \\begin{bmatrix}\n",
    "K_{xy}^{\\phantom{\\top}}K_{xy}^\\top & K_{xy}^{\\phantom{\\top}}K_{yy}^\\top \\\\\n",
    "K_{yy}^{\\phantom{\\top}}K_{xy}^\\top & K_{yy}^{\\phantom{\\top}}K_{yy}^\\top\n",
    "\\end{bmatrix},\n",
    "$$\n",
    "the null hypothesis is rejected if the test statistic  \n",
    "$$\n",
    "T(\\{X_{i}\\}_{i=1}^{n}, \\{Y_{j}\\}_{j=1}^{m}) \n",
    "=\n",
    "        \\left\\lVert (S_X+\\gamma I)^{-\\frac{1}{2}}(m_Y - m_X) \\right\\rVert  + \\text{trace}\\left(\\log\\left((S_X+\\gamma I)^{-\\frac{1}{2}}(S_Y+\\gamma I)(S_X+\\gamma I)^{-\\frac{1}{2}}\\right) - (S_Y+\\gamma I)(S_X+\\gamma I)^{-1} + I\\right)\n",
    "$$\n",
    "exceeds the critical threshold $\\hat{q}_{1-\\alpha}$, which in practice is determined as the $(1-\\alpha)$-th quantile of the test statistic’s permutation distribution:  \n",
    "$$\n",
    "\\{T(\\{Z_{\\sigma(i)}\\}_{i=1}^{n}, \\{Z_{\\sigma(j)}\\}_{j=n+1}^{n+m}): \\sigma \\in S\\},\n",
    "$$  \n",
    "where $S$ is a random subsample of permutations $\\sigma: [n+m] \\to [n+m]$ where $[n+m]= \\{1, \\dots, n+m\\}$.\n",
    "Finally, the test function is defined as  \n",
    "$$\n",
    "\\delta(X,Y) = \n",
    "\\begin{cases} \n",
    "1 & \\textnormal{if } T(\\{X_{i}\\}_{i=1}^{n}, \\{Y_{j}\\}_{j=1}^{m}) > \\hat{q}_{1-\\alpha}, \\\\ \n",
    "0 & \\textnormal{otherwise}.\n",
    "\\end{cases}\n",
    "$$\n",
    "\n",
    "**NB**:\n",
    " The computational cost is primarily dominated by matrix inversion. Since the test threshold is determined via permutation testing, $B$ permutations result in a total cost of $O(BN^3)$.  \n",
    "\n",
    "\n",
    "In practice, a bandwith for the kernel needs to be chosen, as well as the ridge regularisation parameter $\\gamma$. These are selected **adaptively** in the testing procedure, with Bonferroni correction to account for multiple testing\n"
   ]
  },
  {
   "cell_type": "markdown",
   "metadata": {
    "vscode": {
     "languageId": "markdown"
    }
   },
   "source": [
    "\n",
    "\n",
    "#### 🧩 Library Components\n",
    "\n",
    "The implementation of the Regularized Kernel Likelihood Ratio Test and related kernel-based two-sample tests is structured into modular components:\n",
    "\n",
    "##### 🧪 `KernelTwoSampleTest(name)` — Factory Function\n",
    "\n",
    "Creates a **test class** for one of the following methods:\n",
    "* `'KLR'`: **Kernel Likelihood Ratio**\n",
    "* `'KLR-0'`: **Centered KLR**\n",
    "* `'KCM'`: Kernel Cameron-Martin test\n",
    "\n",
    "or one of the following known methods:\n",
    "\n",
    "* `'MMD'`: Maximum Mean Discrepancy\n",
    "* `'Agg-MMD'`: Aggregated MMD across bandwidths\n",
    "* `'SpecReg-MMD'`: Spectral Regularized MMD\n",
    "\n",
    "\n",
    "### 🧫 Test Class Interface\n",
    "\n",
    "Each test class returned by the factory has the following interface:\n",
    "\n",
    "```python\n",
    "test = KernelTwoSampleTest('KLR')(X, Y)\n",
    "result = test(num_permutations=500, level=0.05, NUM_CORES=4)\n",
    "```\n",
    "\n",
    "**Attributes**:\n",
    "\n",
    "* `obs_value`: Observed test statistic\n",
    "* `p_value`: Corrected (Bonferroni) p-value\n",
    "* `decision`: Binary decision (1 = reject null, 0 = fail to reject)\n",
    "* `permuted_stats`: Permutation distribution\n",
    "\n",
    "**Initialization Parameters**:\n",
    "\n",
    "* `kernel_name`: Distance metric for kernel matrix (e.g. `'sqeuclidean'`)\n",
    "* `band_factor_ls`: List of bandwidth multipliers (adaptive kernel width)\n",
    "* `ridge_ls`: List of ridge parameters (regularization)\n",
    "* `symmetrise`: Whether to replace testing $P =Q$ with $1/2(P+Q) = Q$ -- improves numerical stability\n",
    "* `project`: Whether to project $S_Y$ onto eigenspace of $S_X$ -- improves numerical stability\n"
   ]
  },
  {
   "cell_type": "markdown",
   "metadata": {},
   "source": [
    "### 🧪 Example Usage\n",
    "Below is a simple example using the KLR (Kernel Likelihood Ratio) test on two synthetic Gaussian sample"
   ]
  },
  {
   "cell_type": "code",
   "execution_count": 1,
   "metadata": {},
   "outputs": [
    {
     "name": "stdout",
     "output_type": "stream",
     "text": [
      "P-Value: 0.0000\n",
      "Reject Null: Yes\n"
     ]
    },
    {
     "data": {
      "image/png": "[encoded data removed]",
      "text/plain": [
       "<Figure size 500x300 with 1 Axes>"
      ]
     },
     "metadata": {},
     "output_type": "display_data"
    }
   ],
   "source": [
    "import numpy as np\n",
    "import os\n",
    "os.chdir(os.path.dirname(os.getcwd()))\n",
    "from src.twosample.ker import KernelTwoSampleTest  # or wherever your factory is defined\n",
    "\n",
    "# Instantiate the KLR test class\n",
    "KLR0 = KernelTwoSampleTest('KLR-0')\n",
    "\n",
    "# Generate synthetic samples\n",
    "np.random.seed(0)\n",
    "sample_size = 100\n",
    "dimension = 500\n",
    "X = np.random.multivariate_normal(np.zeros(dimension), np.eye(dimension), sample_size)\n",
    "Y = np.random.multivariate_normal(np.ones(dimension),  np.eye(dimension), sample_size)\n",
    "\n",
    "# Initialize test \n",
    "test = KLR0(X, Y, \n",
    "           band_factor_ls=[0.1, 0.5, 1], \n",
    "           ridge_ls=[1e-4, 1e-3, 1e-2, 1e-1, 1e0, 1e1],\n",
    "           kernel_name='sqeuclidean',\n",
    "           symmetrise=True, project=True)\n",
    "\n",
    "# Run the test with permutation-based calibration; 500 random permutations, and 8 cores for parallel processing, significance level of 0.05\n",
    "result = test(num_permutations=500, level=0.05, NUM_CORES=8) \n",
    "print(f\"P-Value: {result.p_value:.4f}\")\n",
    "print(f\"Reject Null: {'Yes' if result.decision == 1 else 'No'}\")\n",
    "\n",
    "import matplotlib.pyplot as plt\n",
    "import seaborn as sns\n",
    "import os\n",
    "plt.figure(figsize=(5, 3))\n",
    "sns.histplot(result.permuted_stats, kde=True, bins=30, color='blue', alpha=0.6, label='Permuted Stats') # Plot KDE and histogram of permuted statistics\n",
    "plt.axvline(result.obs_value, color='red', linestyle='--', label=f'Observed Value') # Add vertical line for observed test statistic\n",
    "plt.title('Permutation Test Statistics'); plt.xlabel('Test Statistic Value'); plt.ylabel('Frequency'); plt.legend(); plt.show()"
   ]
  }
 ],
 "metadata": {
  "kernelspec": {
   "display_name": "Python 3",
   "language": "python",
   "name": "python3"
  },
  "language_info": {
   "codemirror_mode": {
    "name": "ipython",
    "version": 3
   },
   "file_extension": ".py",
   "mimetype": "text/x-python",
   "name": "python",
   "nbconvert_exporter": "python",
   "pygments_lexer": "ipython3",
   "version": "3.9.6"
  }
 },
 "nbformat": 4,
 "nbformat_minor": 2
}
