{
 "cells": [
  {
   "cell_type": "code",
   "execution_count": 11,
   "metadata": {},
   "outputs": [],
   "source": [
    "from modules import *\n",
    "from functions.tools import *\n",
    "from functions.TestFuns import *\n",
    "import pandas as pd\n",
    "import matplotlib.pyplot as plt\n",
    "import numpy as np\n",
    "import seaborn as sns"
   ]
  },
  {
   "cell_type": "code",
   "execution_count": 2,
   "metadata": {},
   "outputs": [],
   "source": [
    "mnist_data_train = pd.read_csv('datasets/MNIST/mnist_train.csv').set_index('label')"
   ]
  },
  {
   "cell_type": "code",
   "execution_count": 63,
   "metadata": {},
   "outputs": [
    {
     "name": "stderr",
     "output_type": "stream",
     "text": [
      "100%|██████████| 50/50 [00:34<00:00,  1.45it/s]\n"
     ]
    },
    {
     "data": {
      "image/png": "[encoded data removed]",
      "text/plain": [
       "<Figure size 640x480 with 1 Axes>"
      ]
     },
     "metadata": {},
     "output_type": "display_data"
    },
    {
     "name": "stdout",
     "output_type": "stream",
     "text": [
      "1.0\n",
      "1.0\n"
     ]
    }
   ],
   "source": [
    "num_permutations = 100\n",
    "n_samples = 50\n",
    "mmd_pvals = []; cke_pvals = []\n",
    "# x_num = 8; y_num = 3\n",
    "x_num = 9; y_num = 5\n",
    "for _ in tqdm(range(50)):\n",
    "    X = mnist_data_train.loc[x_num].sample(n_samples).values\n",
    "    Y = mnist_data_train.loc[y_num].sample(n_samples).values\n",
    "    MMD_p_value = MMD_two_sample_test(X,Y)(num_permutations); mmd_pvals.append(MMD_p_value)\n",
    "    CKE_p_value = CKE_two_sample_test(X,Y, kappa_K = 1000)(num_permutations); cke_pvals.append(CKE_p_value)\n",
    "\n",
    "plt.hist(mmd_pvals, bins = 20, alpha = 0.5, label = 'MMD')\n",
    "plt.hist(cke_pvals, bins = 20, alpha = 0.5, label = 'CKE')\n",
    "plt.legend()\n",
    "plt.show()\n",
    "\n",
    "print(sum([_<.05 for _ in mmd_pvals])/ len(mmd_pvals))\n",
    "print(sum([_<.05 for _ in cke_pvals]) / len(cke_pvals))\n"
   ]
  },
  {
   "cell_type": "code",
   "execution_count": null,
   "metadata": {},
   "outputs": [
    {
     "ename": "AttributeError",
     "evalue": "module 'seaborn' has no attribute 'hist'",
     "output_type": "error",
     "traceback": [
      "\u001b[0;31m---------------------------------------------------------------------------\u001b[0m",
      "\u001b[0;31mAttributeError\u001b[0m                            Traceback (most recent call last)",
      "Cell \u001b[0;32mIn[62], line 1\u001b[0m\n\u001b[0;32m----> 1\u001b[0m \u001b[43msns\u001b[49m\u001b[38;5;241;43m.\u001b[39;49m\u001b[43mhist\u001b[49m([_\u001b[38;5;241m<\u001b[39m\u001b[38;5;241m.05\u001b[39m \u001b[38;5;28;01mfor\u001b[39;00m _ \u001b[38;5;129;01min\u001b[39;00m mmd_pvals])\n",
      "\u001b[0;31mAttributeError\u001b[0m: module 'seaborn' has no attribute 'hist'"
     ]
    }
   ],
   "source": []
  },
  {
   "cell_type": "code",
   "execution_count": null,
   "metadata": {},
   "outputs": [
    {
     "name": "stdout",
     "output_type": "stream",
     "text": [
      "0.82\n",
      "1.0\n"
     ]
    }
   ],
   "source": []
  },
  {
   "cell_type": "markdown",
   "metadata": {},
   "source": [
    "----"
   ]
  },
  {
   "cell_type": "code",
   "execution_count": 48,
   "metadata": {},
   "outputs": [
    {
     "name": "stderr",
     "output_type": "stream",
     "text": [
      "\n",
      "\u001b[A\n",
      "\u001b[A\n",
      "\u001b[A\n",
      "  0%|          | 0/10 [00:03<?, ?it/s]\n"
     ]
    },
    {
     "ename": "KeyboardInterrupt",
     "evalue": "",
     "output_type": "error",
     "traceback": [
      "\u001b[0;31m---------------------------------------------------------------------------\u001b[0m",
      "\u001b[0;31mKeyboardInterrupt\u001b[0m                         Traceback (most recent call last)",
      "Cell \u001b[0;32mIn[48], line 8\u001b[0m\n\u001b[1;32m      6\u001b[0m         Y \u001b[38;5;241m=\u001b[39m mnist_data_train\u001b[38;5;241m.\u001b[39mloc[y_num]\u001b[38;5;241m.\u001b[39mvalues[\u001b[38;5;241m-\u001b[39m\u001b[38;5;241m100\u001b[39m:]\n\u001b[1;32m      7\u001b[0m         MMD_p_value \u001b[38;5;241m=\u001b[39m MMD_two_sample_test(X,Y)(num_permutations); mmd_pvals\u001b[38;5;241m.\u001b[39mappend(MMD_p_value)\n\u001b[0;32m----> 8\u001b[0m         CKE_p_value \u001b[38;5;241m=\u001b[39m CKE_two_sample_test(X,Y)(num_permutations); cke_pvals\u001b[38;5;241m.\u001b[39mappend(CKE_p_value)\n\u001b[1;32m     11\u001b[0m MMD_matrix \u001b[38;5;241m=\u001b[39m np\u001b[38;5;241m.\u001b[39mzeros((\u001b[38;5;241m10\u001b[39m, \u001b[38;5;241m10\u001b[39m))\n\u001b[1;32m     12\u001b[0m CKE_matrix \u001b[38;5;241m=\u001b[39m np\u001b[38;5;241m.\u001b[39mzeros((\u001b[38;5;241m10\u001b[39m, \u001b[38;5;241m10\u001b[39m))\n",
      "File \u001b[0;32m~/Desktop/CLUSTER/KerCovEmb/functions/TestFuns.py:107\u001b[0m, in \u001b[0;36mCKE_two_sample_test.__call__\u001b[0;34m(self, num_permutations, return_stats)\u001b[0m\n\u001b[1;32m    105\u001b[0m     reordered_kernel \u001b[38;5;241m=\u001b[39m \u001b[38;5;28mself\u001b[39m\u001b[38;5;241m.\u001b[39mkernel_matrix[permuted_indices][:, permuted_indices]\n\u001b[1;32m    106\u001b[0m     _kxx \u001b[38;5;241m=\u001b[39m reordered_kernel[:n, :n] ; _kyy \u001b[38;5;241m=\u001b[39m reordered_kernel[n:, n:]; _kxy \u001b[38;5;241m=\u001b[39m reordered_kernel[:n, n:]\n\u001b[0;32m--> 107\u001b[0m     _KX, _KX_ED, _KY, _KY_ED \u001b[38;5;241m=\u001b[39m \u001b[43mget_Kmats_X_Y\u001b[49m\u001b[43m(\u001b[49m\u001b[43m_kxx\u001b[49m\u001b[43m,\u001b[49m\u001b[43m \u001b[49m\u001b[43m_kxy\u001b[49m\u001b[43m,\u001b[49m\u001b[43m \u001b[49m\u001b[43m_kyy\u001b[49m\u001b[43m,\u001b[49m\u001b[43m \u001b[49m\u001b[38;5;28;43mself\u001b[39;49m\u001b[38;5;241;43m.\u001b[39;49m\u001b[43mkappa_K\u001b[49m\u001b[43m)\u001b[49m\n\u001b[1;32m    108\u001b[0m     permuted_stats\u001b[38;5;241m.\u001b[39mappend(CovKerEmb_test_stat(\u001b[38;5;28mself\u001b[39m\u001b[38;5;241m.\u001b[39mtest_name, _KX, _KY, _KX_ED, _KY_ED))\n\u001b[1;32m    110\u001b[0m p_value \u001b[38;5;241m=\u001b[39m np\u001b[38;5;241m.\u001b[39mmean(permuted_stats \u001b[38;5;241m>\u001b[39m \u001b[38;5;28mself\u001b[39m\u001b[38;5;241m.\u001b[39mobs_value)\n",
      "File \u001b[0;32m~/Desktop/CLUSTER/KerCovEmb/functions/tools.py:18\u001b[0m, in \u001b[0;36mget_Kmats_X_Y\u001b[0;34m(kxx, kxy, kyy, regularisation_param)\u001b[0m\n\u001b[1;32m     16\u001b[0m \u001b[38;5;66;03m# regularize_with_condition_number_byRidge, regularize_with_condition_number_byTruncation, regularize_with_ridge\u001b[39;00m\n\u001b[1;32m     17\u001b[0m KX, KX_ED \u001b[38;5;241m=\u001b[39m regularize_with_condition_number_byRidge(KX, regularisation_param)\n\u001b[0;32m---> 18\u001b[0m KY, KY_ED \u001b[38;5;241m=\u001b[39m \u001b[43mregularize_with_condition_number_byRidge\u001b[49m\u001b[43m(\u001b[49m\u001b[43mKY\u001b[49m\u001b[43m,\u001b[49m\u001b[43m \u001b[49m\u001b[43mregularisation_param\u001b[49m\u001b[43m)\u001b[49m\n\u001b[1;32m     20\u001b[0m \u001b[38;5;28;01mreturn\u001b[39;00m KX, KX_ED, KY, KY_ED\n",
      "File \u001b[0;32m~/Desktop/CLUSTER/KerCovEmb/functions/tools.py:100\u001b[0m, in \u001b[0;36mregularize_with_condition_number_byRidge\u001b[0;34m(A, max_condition_number)\u001b[0m\n\u001b[1;32m     98\u001b[0m \u001b[38;5;129m@profile\u001b[39m\n\u001b[1;32m     99\u001b[0m \u001b[38;5;28;01mdef\u001b[39;00m \u001b[38;5;21mregularize_with_condition_number_byRidge\u001b[39m(A, max_condition_number):\n\u001b[0;32m--> 100\u001b[0m     S, U  \u001b[38;5;241m=\u001b[39m \u001b[43mEIG_DEC\u001b[49m\u001b[43m(\u001b[49m\u001b[43mA\u001b[49m\u001b[43m)\u001b[49m\n\u001b[1;32m    101\u001b[0m     \u001b[38;5;66;03m# cond_num = S[-1]/S[0]\u001b[39;00m\n\u001b[1;32m    102\u001b[0m     cond_num \u001b[38;5;241m=\u001b[39m S\u001b[38;5;241m.\u001b[39mmax()\u001b[38;5;241m/\u001b[39mS\u001b[38;5;241m.\u001b[39mmin()\n",
      "File \u001b[0;32m~/Desktop/CLUSTER/KerCovEmb/functions/tools.py:35\u001b[0m, in \u001b[0;36mEIG_DEC\u001b[0;34m(A)\u001b[0m\n\u001b[1;32m     32\u001b[0m \u001b[38;5;129m@profile\u001b[39m\n\u001b[1;32m     33\u001b[0m \u001b[38;5;28;01mdef\u001b[39;00m \u001b[38;5;21mEIG_DEC\u001b[39m(A):\n\u001b[1;32m     34\u001b[0m     \u001b[38;5;66;03m#assert np.allclose(A, A.T), \"Matrix is not symmetric\"\u001b[39;00m\n\u001b[0;32m---> 35\u001b[0m     eigvals, eigvecs \u001b[38;5;241m=\u001b[39m \u001b[43mLA\u001b[49m\u001b[38;5;241;43m.\u001b[39;49m\u001b[43meigh\u001b[49m\u001b[43m(\u001b[49m\u001b[43mA\u001b[49m\u001b[43m)\u001b[49m\n\u001b[1;32m     36\u001b[0m     S \u001b[38;5;241m=\u001b[39m np\u001b[38;5;241m.\u001b[39mclip(eigvals, min_val_to_clip, \u001b[38;5;28;01mNone\u001b[39;00m)\n\u001b[1;32m     37\u001b[0m     U \u001b[38;5;241m=\u001b[39m eigvecs\n",
      "File \u001b[0;32m/opt/anaconda3/lib/python3.9/site-packages/scipy/linalg/_decomp.py:560\u001b[0m, in \u001b[0;36meigh\u001b[0;34m(a, b, lower, eigvals_only, overwrite_a, overwrite_b, turbo, eigvals, type, check_finite, subset_by_index, subset_by_value, driver)\u001b[0m\n\u001b[1;32m    557\u001b[0m         lwork_args \u001b[38;5;241m=\u001b[39m {\u001b[38;5;124m'\u001b[39m\u001b[38;5;124mlwork\u001b[39m\u001b[38;5;124m'\u001b[39m: lw}\n\u001b[1;32m    559\u001b[0m     drv_args\u001b[38;5;241m.\u001b[39mupdate({\u001b[38;5;124m'\u001b[39m\u001b[38;5;124mlower\u001b[39m\u001b[38;5;124m'\u001b[39m: lower, \u001b[38;5;124m'\u001b[39m\u001b[38;5;124mcompute_v\u001b[39m\u001b[38;5;124m'\u001b[39m: \u001b[38;5;241m0\u001b[39m \u001b[38;5;28;01mif\u001b[39;00m _job \u001b[38;5;241m==\u001b[39m \u001b[38;5;124m\"\u001b[39m\u001b[38;5;124mN\u001b[39m\u001b[38;5;124m\"\u001b[39m \u001b[38;5;28;01melse\u001b[39;00m \u001b[38;5;241m1\u001b[39m})\n\u001b[0;32m--> 560\u001b[0m     w, v, \u001b[38;5;241m*\u001b[39mother_args, info \u001b[38;5;241m=\u001b[39m \u001b[43mdrv\u001b[49m\u001b[43m(\u001b[49m\u001b[43ma\u001b[49m\u001b[38;5;241;43m=\u001b[39;49m\u001b[43ma1\u001b[49m\u001b[43m,\u001b[49m\u001b[43m \u001b[49m\u001b[38;5;241;43m*\u001b[39;49m\u001b[38;5;241;43m*\u001b[39;49m\u001b[43mdrv_args\u001b[49m\u001b[43m,\u001b[49m\u001b[43m \u001b[49m\u001b[38;5;241;43m*\u001b[39;49m\u001b[38;5;241;43m*\u001b[39;49m\u001b[43mlwork_args\u001b[49m\u001b[43m)\u001b[49m\n\u001b[1;32m    562\u001b[0m \u001b[38;5;28;01melse\u001b[39;00m:  \u001b[38;5;66;03m# Generalized problem\u001b[39;00m\n\u001b[1;32m    563\u001b[0m     \u001b[38;5;66;03m# 'gvd' doesn't have lwork query\u001b[39;00m\n\u001b[1;32m    564\u001b[0m     \u001b[38;5;28;01mif\u001b[39;00m driver \u001b[38;5;241m==\u001b[39m \u001b[38;5;124m\"\u001b[39m\u001b[38;5;124mgvd\u001b[39m\u001b[38;5;124m\"\u001b[39m:\n",
      "\u001b[0;31mKeyboardInterrupt\u001b[0m: "
     ]
    }
   ],
   "source": [
    "num_permutations = 100\n",
    "mmd_pvals = []; cke_pvals = []\n",
    "for x_num in tqdm(range(10), position=1):\n",
    "    for y_num in tqdm(range(x_num +1, 10), position=2, leave=False):\n",
    "        X = mnist_data_train.loc[x_num].values[-100:]\n",
    "        Y = mnist_data_train.loc[y_num].values[-100:]\n",
    "        MMD_p_value = MMD_two_sample_test(X,Y)(num_permutations); mmd_pvals.append(MMD_p_value)\n",
    "        CKE_p_value = CKE_two_sample_test(X,Y)(num_permutations); cke_pvals.append(CKE_p_value)\n",
    "\n",
    "\n",
    "MMD_matrix = np.zeros((10, 10))\n",
    "CKE_matrix = np.zeros((10, 10))\n",
    "index = 0\n",
    "for i in range(10):\n",
    "    for j in range(i + 1, 10):\n",
    "        MMD_matrix[i, j] = mmd_pvals[index]; MMD_matrix[j, i] = mmd_pvals[index]\n",
    "        CKE_matrix[i, j] = cke_pvals[index]; CKE_matrix[j, i] = cke_pvals[index]\n",
    "        index += 1\n",
    "\n",
    "fig, [axMMD, axCKE] = plt.subplots(1, 2, figsize=(12, 6))\n",
    "sns.heatmap(MMD_matrix, annot=True, ax=axMMD, cmap='coolwarm', cbar=False)\n",
    "sns.heatmap(CKE_matrix, annot=True, ax=axCKE, cmap='coolwarm', cbar=False)\n",
    "axMMD.set_title('MMD p-values')\n",
    "axCKE.set_title('CKE p-values')"
   ]
  },
  {
   "cell_type": "code",
   "execution_count": null,
   "metadata": {},
   "outputs": [],
   "source": []
  }
 ],
 "metadata": {
  "kernelspec": {
   "display_name": "base",
   "language": "python",
   "name": "python3"
  },
  "language_info": {
   "codemirror_mode": {
    "name": "ipython",
    "version": 3
   },
   "file_extension": ".py",
   "mimetype": "text/x-python",
   "name": "python",
   "nbconvert_exporter": "python",
   "pygments_lexer": "ipython3",
   "version": "3.9.13"
  }
 },
 "nbformat": 4,
 "nbformat_minor": 2
}
