{
 "cells": [
  {
   "cell_type": "code",
   "execution_count": 34,
   "metadata": {},
   "outputs": [],
   "source": [
    "from modules import *\n",
    "from functions.tools import *\n",
    "from functions.TestFuns import *\n",
    "import pandas as pd\n",
    "import matplotlib.pyplot as plt\n",
    "import numpy as np\n",
    "import seaborn as sns\n",
    "from collections import defaultdict\n",
    "\n",
    "from scipy.ndimage import gaussian_filter\n"
   ]
  },
  {
   "cell_type": "markdown",
   "metadata": {},
   "source": [
    "---"
   ]
  },
  {
   "cell_type": "code",
   "execution_count": 5,
   "metadata": {},
   "outputs": [],
   "source": [
    "mnist_data_train = pd.read_csv('datasets/MNIST/mnist_train.csv').set_index('label')\n",
    "mnist_data_train/=255"
   ]
  },
  {
   "cell_type": "code",
   "execution_count": 51,
   "metadata": {},
   "outputs": [
    {
     "data": {
      "image/png": "[encoded data removed]",
      "text/plain": [
       "<Figure size 640x480 with 2 Axes>"
      ]
     },
     "metadata": {},
     "output_type": "display_data"
    }
   ],
   "source": [
    "sigma = .25\n",
    "X = mnist_data_train.values[-1]\n",
    "# X += np.random.normal(0, sigma, X.shape)\n",
    "\n",
    "fig, [axl, axr] = plt.subplots(1,2)\n",
    "\n",
    "im = X.reshape(28,28)\n",
    "sns.heatmap(im, ax = axl, square=True, cbar = False)\n",
    "\n",
    "\n",
    "blur_sigma = 3\n",
    "blurred_im = gaussian_filter(im,blur_sigma)\n",
    "# blurred_im =( X + np.random.normal(0, .25, X.shape)).reshape(28,28)\n",
    "\n",
    "sns.heatmap(blurred_im, ax = axr, square=True, cbar = False, vmin = im.min(), vmax = im.max())\n",
    "plt.show()"
   ]
  },
  {
   "cell_type": "code",
   "execution_count": 6,
   "metadata": {},
   "outputs": [
    {
     "name": "stderr",
     "output_type": "stream",
     "text": [
      "100%|██████████| 10/10 [02:37<00:00, 15.74s/it]\n"
     ]
    }
   ],
   "source": [
    "selection_of_digits = [1,3,8] \n",
    "\n",
    "num_replications = 100\n",
    "num_samples = 50\n",
    "num_permutations = 500\n",
    "\n",
    "sigma = .5\n",
    "\n",
    "\n",
    "\n",
    "\n",
    "from collections import defaultdict\n",
    "mmd_tests = defaultdict(list); cke_tests = defaultdict(list)\n",
    "for rep in tqdm( range(num_replications)):\n",
    "    for i, x_num in enumerate(selection_of_digits):\n",
    "        for y_num in selection_of_digits[i:]:\n",
    "                X = mnist_data_train.loc[x_num].sample(num_samples).values \n",
    "                Y = mnist_data_train.loc[y_num].sample(num_samples).values\n",
    "                X += np.random.normal(0, sigma, X.shape)\n",
    "                Y += np.random.normal(0, sigma, Y.shape)\n",
    "\n",
    "                MMD_p_value = MMD_two_sample_test(X,Y)(num_permutations)\n",
    "                mmd_tests[(x_num, y_num)].append(1 if MMD_p_value < 0.05 else 0)\n",
    "                mmd_tests[(y_num , x_num)].append(1 if MMD_p_value < 0.05 else 0)\n",
    "\n",
    "                CKE_p_value = CKE_two_sample_test(X,Y, kappa_K = 1e4)(num_permutations)\n",
    "                cke_tests[(x_num, y_num)].append(1 if CKE_p_value < 0.05 else 0)\n",
    "                cke_tests[(y_num , x_num)].append(1 if CKE_p_value < 0.05 else 0)\n",
    "\n"
   ]
  },
  {
   "cell_type": "markdown",
   "metadata": {},
   "source": [
    "## Comparing 2 digits"
   ]
  },
  {
   "cell_type": "code",
   "execution_count": null,
   "metadata": {},
   "outputs": [],
   "source": [
    "def run_perturbed_minst_test(x_num, y_num, X, Y, sigma, num_permutations):\n",
    "    X += np.random.normal(0, sigma, X.shape)\n",
    "    Y += np.random.normal(0, sigma, Y.shape)\n",
    "    _mmdtest = 1 if MMD_two_sample_test(X,Y)(num_permutations) < 0.05 else 0\n",
    "    _cketest = 1 if CKE_two_sample_test(X,Y, kappa_K = 1e4)(num_permutations) < 0.05 else 0\n",
    "    out =  (('CKE', x_num, y_num, _cketest),  ('MMD', x_num, y_num, _mmdtest))\n",
    "    return out"
   ]
  },
  {
   "cell_type": "code",
   "execution_count": null,
   "metadata": {},
   "outputs": [
    {
     "name": "stderr",
     "output_type": "stream",
     "text": [
      "  5%|▍         | 19/400 [01:28<29:27,  4.64s/it]\n",
      "100%|██████████| 400/400 [00:47<00:00,  8.40it/s]\n"
     ]
    }
   ],
   "source": [
    "selection_of_digits = [4,9] \n",
    "NUM_CORES = 10\n",
    "subsampled_data = mnist_data_train.loc[selection_of_digits]\n",
    "num_replications = 100\n",
    "num_samples = 50\n",
    "num_permutations = 250\n",
    "\n",
    "sigma = 1.2\n",
    "\n",
    "iter_args = [(x_num, y_num, subsampled_data.loc[x_num].sample(num_samples).values, subsampled_data.loc[y_num].sample(num_samples).values, sigma, num_permutations ) \n",
    "             for x_num in selection_of_digits for y_num in selection_of_digits for _ in range(num_replications)]\n",
    "# iter_args = [(selection_of_digits, sigma, num_permutations, num_samples) for _ in range(num_replications)]\n",
    "results = Parallel(n_jobs=NUM_CORES)(delayed(run_perturbed_minst_test)(*args) for args in tqdm(iter_args))\n",
    "\n",
    "summary = {'CKE' : defaultdict(list), 'MMD' : defaultdict(list)}\n",
    "for run in results:\n",
    "    for line in run:\n",
    "        summary[line[0]][line[1], line[2]].append(line[3])\n"
   ]
  },
  {
   "cell_type": "code",
   "execution_count": null,
   "metadata": {},
   "outputs": [
    {
     "data": {
      "text/plain": [
       "Text(0.5, 1.0, 'CKE')"
      ]
     },
     "metadata": {},
     "output_type": "display_data"
    },
    {
     "data": {
      "image/png": "[encoded data removed]",
      "text/plain": [
       "<Figure size 1200x600 with 2 Axes>"
      ]
     },
     "metadata": {},
     "output_type": "display_data"
    }
   ],
   "source": [
    "S = len(selection_of_digits) \n",
    "MMD_matrix = np.zeros((S,S)); CKE_matrix = np.zeros((S,S))\n",
    "for i, x_num in enumerate(selection_of_digits):\n",
    "    for j, y_num in enumerate(selection_of_digits):\n",
    "        CKE_matrix[i, j] = sum(summary['CKE'][(x_num, y_num)]) / num_replications;   #CKE_matrix[j, i] = CKE_matrix[i, j]\n",
    "        MMD_matrix[i, j] = sum(summary['MMD'][(x_num, y_num)]) / num_replications;   #MMD_matrix[j, i] = MMD_matrix[i, j]  \n",
    "\n",
    "\n",
    "fig, [axMMD, axCKE] = plt.subplots(1, 2, figsize=(12, 6))\n",
    "vmin = 0; vmax = 1\n",
    "sns.heatmap(MMD_matrix, annot=True, ax=axMMD, cmap='coolwarm', cbar=False, vmin=vmin, vmax=vmax)\n",
    "sns.heatmap(CKE_matrix, annot=True, ax=axCKE, cmap='coolwarm', cbar=False, vmin=vmin, vmax=vmax)\n",
    "axMMD.set_title('MMD')\n",
    "axCKE.set_title('CKE')"
   ]
  },
  {
   "cell_type": "code",
   "execution_count": null,
   "metadata": {},
   "outputs": [],
   "source": []
  },
  {
   "cell_type": "markdown",
   "metadata": {},
   "source": [
    "## Comparing 2 sets of digits"
   ]
  },
  {
   "cell_type": "markdown",
   "metadata": {},
   "source": [
    "### additive noise"
   ]
  },
  {
   "cell_type": "code",
   "execution_count": 48,
   "metadata": {},
   "outputs": [],
   "source": [
    "def run_perturbed_minst_test(X, Y, sigma, num_permutations, kernel = None):\n",
    "    X += np.random.normal(0, sigma, X.shape)\n",
    "    Y += np.random.normal(0, sigma, Y.shape)\n",
    "    _mmdtest = 1 if MMD_two_sample_test(X,Y)(num_permutations) < 0.05 else 0\n",
    "    _cketest = 1 if CKE_two_sample_test(X,Y, kappa_K = 1e5, kernel = kernel)(num_permutations) < 0.05 else 0\n",
    "    out =  (('CKE', _cketest),  ('MMD', _mmdtest))\n",
    "    return out"
   ]
  },
  {
   "cell_type": "code",
   "execution_count": 54,
   "metadata": {},
   "outputs": [
    {
     "name": "stderr",
     "output_type": "stream",
     "text": [
      "  0%|          | 0/100 [00:00<?, ?it/s]"
     ]
    },
    {
     "name": "stderr",
     "output_type": "stream",
     "text": [
      "100%|██████████| 100/100 [00:28<00:00,  3.49it/s]\n"
     ]
    },
    {
     "name": "stdout",
     "output_type": "stream",
     "text": [
      "prepared args!\n"
     ]
    },
    {
     "name": "stderr",
     "output_type": "stream",
     "text": [
      "100%|██████████| 100/100 [00:21<00:00,  4.74it/s]\n"
     ]
    },
    {
     "name": "stdout",
     "output_type": "stream",
     "text": [
      "done!\n"
     ]
    }
   ],
   "source": [
    "group_1 = [9,6,8] \n",
    "group_2 = [4,8]\n",
    "\n",
    "NUM_CORES = 10\n",
    "num_replications = 100\n",
    "num_samples = 50\n",
    "num_permutations = 500\n",
    "\n",
    "sigma = .75\n",
    "\n",
    "iter_args = [(mnist_data_train.loc[group_1].sample(num_samples).values, mnist_data_train.loc[group_2].sample(num_samples).values,\n",
    "               sigma, num_permutations ) for _ in tqdm(range(num_replications))]\n",
    "\n",
    "print('prepared args!')\n",
    "results = Parallel(n_jobs=NUM_CORES)(delayed(run_perturbed_minst_test)(*args) for args in tqdm(iter_args))\n",
    "print('done!')\n",
    "\n",
    "summary = {'CKE' : list(), 'MMD' : list()}\n",
    "for run in results:\n",
    "    for line in run:\n",
    "        summary[line[0]].append(line[1])"
   ]
  },
  {
   "cell_type": "code",
   "execution_count": 56,
   "metadata": {},
   "outputs": [
    {
     "name": "stdout",
     "output_type": "stream",
     "text": [
      "CKE : 0.55\n",
      "MMD : 0.63\n"
     ]
    }
   ],
   "source": [
    "print('CKE : {}'.format( sum(summary['CKE'])/num_replications))\n",
    "print('MMD : {}'.format( sum(summary['MMD'])/num_replications))\n"
   ]
  },
  {
   "cell_type": "code",
   "execution_count": null,
   "metadata": {},
   "outputs": [],
   "source": [
    "# kappa_K = 1e5\n",
    "\n",
    "# group_1 = [9,6] \n",
    "# group_2 = [4,8]\n",
    "\n",
    "# NUM_CORES = 10\n",
    "# num_replications = 50\n",
    "# num_samples = 100\n",
    "# num_permutations = 500\n",
    "\n",
    "# sigma = 1.25\n",
    "\n",
    "# # decent results ! .84 vs .88\n",
    "\n",
    "# now we need to find a different dataset where we actually do better than MMD"
   ]
  },
  {
   "cell_type": "markdown",
   "metadata": {},
   "source": [
    "### blur"
   ]
  },
  {
   "cell_type": "code",
   "execution_count": 40,
   "metadata": {},
   "outputs": [],
   "source": [
    "def run_perturbed_minst_test(X, Y, sigma, num_permutations, kernel = None):\n",
    "    X  = np.array([ gaussian_filter(_.reshape(28,28), sigma).flatten() for _ in X])\n",
    "    Y = np.array([ gaussian_filter(_.reshape(28,28), sigma).flatten() for _ in Y])\n",
    "    _mmdtest = 1 if MMD_two_sample_test(X,Y)(num_permutations) < 0.05 else 0\n",
    "    _cketest = 1 if CKE_two_sample_test(X,Y, kappa_K = 1e5, kernel = kernel)(num_permutations) < 0.05 else 0\n",
    "    out =  (('CKE', _cketest),  ('MMD', _mmdtest))\n",
    "    return out"
   ]
  },
  {
   "cell_type": "code",
   "execution_count": 53,
   "metadata": {},
   "outputs": [
    {
     "name": "stderr",
     "output_type": "stream",
     "text": [
      " 19%|█▉        | 19/100 [29:03<2:03:52, 91.75s/it]\n",
      "100%|██████████| 50/50 [00:16<00:00,  3.08it/s]\n"
     ]
    },
    {
     "name": "stdout",
     "output_type": "stream",
     "text": [
      "prepared args!\n"
     ]
    },
    {
     "name": "stderr",
     "output_type": "stream",
     "text": [
      "100%|██████████| 50/50 [00:07<00:00,  7.11it/s]\n"
     ]
    },
    {
     "name": "stdout",
     "output_type": "stream",
     "text": [
      "done!\n"
     ]
    },
    {
     "name": "stderr",
     "output_type": "stream",
     "text": [
      "100%|██████████| 50/50 [00:15<00:00,  3.24it/s]\n"
     ]
    },
    {
     "name": "stdout",
     "output_type": "stream",
     "text": [
      "prepared args!\n"
     ]
    },
    {
     "name": "stderr",
     "output_type": "stream",
     "text": [
      "100%|██████████| 50/50 [00:07<00:00,  6.39it/s]\n"
     ]
    },
    {
     "name": "stdout",
     "output_type": "stream",
     "text": [
      "done!\n"
     ]
    },
    {
     "name": "stderr",
     "output_type": "stream",
     "text": [
      "100%|██████████| 50/50 [00:16<00:00,  2.94it/s]\n"
     ]
    },
    {
     "name": "stdout",
     "output_type": "stream",
     "text": [
      "prepared args!\n"
     ]
    },
    {
     "name": "stderr",
     "output_type": "stream",
     "text": [
      "100%|██████████| 50/50 [00:07<00:00,  6.61it/s]\n"
     ]
    },
    {
     "name": "stdout",
     "output_type": "stream",
     "text": [
      "done!\n"
     ]
    },
    {
     "name": "stderr",
     "output_type": "stream",
     "text": [
      "100%|██████████| 50/50 [00:13<00:00,  3.61it/s]\n"
     ]
    },
    {
     "name": "stdout",
     "output_type": "stream",
     "text": [
      "prepared args!\n"
     ]
    },
    {
     "name": "stderr",
     "output_type": "stream",
     "text": [
      "100%|██████████| 50/50 [00:07<00:00,  6.58it/s]\n"
     ]
    },
    {
     "name": "stdout",
     "output_type": "stream",
     "text": [
      "done!\n"
     ]
    }
   ],
   "source": [
    "group_1 = [9,6,8] \n",
    "group_2 = [4,8]\n",
    "\n",
    "NUM_CORES = 10\n",
    "num_replications = 50\n",
    "num_samples = 50\n",
    "num_permutations = 500\n",
    "\n",
    "sigmas = [0,1,2,3]\n",
    "outmmd = []\n",
    "outcke = []\n",
    "for sigma  in sigmas:\n",
    "    iter_args = [(mnist_data_train.loc[group_1].sample(num_samples).values, mnist_data_train.loc[group_2].sample(num_samples).values,\n",
    "                sigma, num_permutations ) for _ in tqdm(range(num_replications))]\n",
    "    \n",
    "    print('prepared args!')\n",
    "    results = Parallel(n_jobs=NUM_CORES)(delayed(run_perturbed_minst_test)(*args) for args in tqdm(iter_args))\n",
    "    print('done!')\n",
    "\n",
    "    summary = {'CKE' : list(), 'MMD' : list()}\n",
    "    for run in results:\n",
    "        for line in run:\n",
    "            summary[line[0]].append(line[1])\n",
    "\n",
    "    outmmd.append( sum(summary['MMD'])/num_replications)\n",
    "    outcke.append( sum(summary['CKE'])/num_replications)"
   ]
  },
  {
   "cell_type": "code",
   "execution_count": 55,
   "metadata": {},
   "outputs": [],
   "source": [
    "# print('CKE : {}'.format( sum(summary['CKE'])/num_replications))\n",
    "# print('MMD : {}'.format( sum(summary['MMD'])/num_replications))\n",
    "sigmas = [0,1,2,3]\n"
   ]
  },
  {
   "cell_type": "code",
   "execution_count": 56,
   "metadata": {},
   "outputs": [
    {
     "data": {
      "image/png": "[encoded data removed]",
      "text/plain": [
       "<Figure size 640x480 with 1 Axes>"
      ]
     },
     "metadata": {},
     "output_type": "display_data"
    }
   ],
   "source": [
    "\n",
    "plt.plot(sigmas, outmmd, label = 'MMD')\n",
    "plt.plot(sigmas, outcke, label = 'CKE')\n",
    "plt.legend(); plt.show()"
   ]
  },
  {
   "cell_type": "code",
   "execution_count": null,
   "metadata": {},
   "outputs": [],
   "source": []
  },
  {
   "cell_type": "code",
   "execution_count": null,
   "metadata": {},
   "outputs": [],
   "source": []
  },
  {
   "cell_type": "code",
   "execution_count": 7,
   "metadata": {},
   "outputs": [
    {
     "data": {
      "text/plain": [
       "Text(0.5, 1.0, 'CKE')"
      ]
     },
     "execution_count": 7,
     "metadata": {},
     "output_type": "execute_result"
    },
    {
     "data": {
      "image/png": "[encoded data removed]",
      "text/plain": [
       "<Figure size 1200x600 with 2 Axes>"
      ]
     },
     "metadata": {},
     "output_type": "display_data"
    }
   ],
   "source": [
    "S = len(selection_of_digits) \n",
    "MMD_matrix = np.zeros((S,S)); CKE_matrix = np.zeros((S,S))\n",
    "for i, x_num in enumerate(selection_of_digits):\n",
    "    for j, y_num in enumerate(selection_of_digits):\n",
    "        CKE_matrix[i, j] = sum(cke_tests[(x_num, y_num)]) / num_replications;   \n",
    "        MMD_matrix[i, j] = sum(mmd_tests[(x_num, y_num)]) / num_replications;  \n",
    "\n",
    "\n",
    "fig, [axMMD, axCKE] = plt.subplots(1, 2, figsize=(12, 6))\n",
    "vmin = 0; vmax = 1\n",
    "sns.heatmap(MMD_matrix, annot=True, ax=axMMD, cmap='coolwarm', cbar=False, vmin=vmin, vmax=vmax)\n",
    "sns.heatmap(CKE_matrix, annot=True, ax=axCKE, cmap='coolwarm', cbar=False, vmin=vmin, vmax=vmax)\n",
    "axMMD.set_title('MMD')\n",
    "axCKE.set_title('CKE')"
   ]
  },
  {
   "cell_type": "code",
   "execution_count": 9,
   "metadata": {},
   "outputs": [
    {
     "data": {
      "text/plain": [
       "array([[0.2, 1. , 1. ],\n",
       "       [1. , 0. , 1. ],\n",
       "       [1. , 1. , 0.6]])"
      ]
     },
     "execution_count": 9,
     "metadata": {},
     "output_type": "execute_result"
    }
   ],
   "source": [
    "MMD_matrix"
   ]
  },
  {
   "cell_type": "code",
   "execution_count": 10,
   "metadata": {},
   "outputs": [
    {
     "data": {
      "text/plain": [
       "array([[0.2, 1. , 1. ],\n",
       "       [1. , 0. , 1. ],\n",
       "       [1. , 1. , 0.6]])"
      ]
     },
     "execution_count": 10,
     "metadata": {},
     "output_type": "execute_result"
    }
   ],
   "source": [
    "CKE_matrix"
   ]
  },
  {
   "cell_type": "markdown",
   "metadata": {},
   "source": [
    "----"
   ]
  },
  {
   "cell_type": "code",
   "execution_count": 50,
   "metadata": {},
   "outputs": [
    {
     "name": "stderr",
     "output_type": "stream",
     "text": [
      " 40%|████      | 2/5 [07:34<11:21, 227.16s/it]\n"
     ]
    },
    {
     "ename": "KeyboardInterrupt",
     "evalue": "",
     "output_type": "error",
     "traceback": [
      "\u001b[0;31m---------------------------------------------------------------------------\u001b[0m",
      "\u001b[0;31mKeyboardInterrupt\u001b[0m                         Traceback (most recent call last)",
      "Cell \u001b[0;32mIn[50], line 17\u001b[0m\n\u001b[1;32m     14\u001b[0m mmd_tests[(x_num, y_num)]\u001b[38;5;241m.\u001b[39mappend(\u001b[38;5;241m1\u001b[39m \u001b[38;5;28;01mif\u001b[39;00m MMD_p_value \u001b[38;5;241m<\u001b[39m \u001b[38;5;241m0.05\u001b[39m \u001b[38;5;28;01melse\u001b[39;00m \u001b[38;5;241m0\u001b[39m)\n\u001b[1;32m     15\u001b[0m mmd_tests[(y_num , x_num)]\u001b[38;5;241m.\u001b[39mappend(\u001b[38;5;241m1\u001b[39m \u001b[38;5;28;01mif\u001b[39;00m MMD_p_value \u001b[38;5;241m<\u001b[39m \u001b[38;5;241m0.05\u001b[39m \u001b[38;5;28;01melse\u001b[39;00m \u001b[38;5;241m0\u001b[39m)\n\u001b[0;32m---> 17\u001b[0m CKE_p_value \u001b[38;5;241m=\u001b[39m \u001b[43mCKE_two_sample_test\u001b[49m\u001b[43m(\u001b[49m\u001b[43mX\u001b[49m\u001b[43m,\u001b[49m\u001b[43mY\u001b[49m\u001b[43m)\u001b[49m\u001b[43m(\u001b[49m\u001b[43mnum_permutations\u001b[49m\u001b[43m)\u001b[49m\n\u001b[1;32m     18\u001b[0m cke_tests[(x_num, y_num)]\u001b[38;5;241m.\u001b[39mappend(\u001b[38;5;241m1\u001b[39m \u001b[38;5;28;01mif\u001b[39;00m CKE_p_value \u001b[38;5;241m<\u001b[39m \u001b[38;5;241m0.05\u001b[39m \u001b[38;5;28;01melse\u001b[39;00m \u001b[38;5;241m0\u001b[39m)\n\u001b[1;32m     19\u001b[0m cke_tests[(y_num , x_num)]\u001b[38;5;241m.\u001b[39mappend(\u001b[38;5;241m1\u001b[39m \u001b[38;5;28;01mif\u001b[39;00m CKE_p_value \u001b[38;5;241m<\u001b[39m \u001b[38;5;241m0.05\u001b[39m \u001b[38;5;28;01melse\u001b[39;00m \u001b[38;5;241m0\u001b[39m)\n",
      "File \u001b[0;32m~/Documents/GitHub/CKE/functions/TestFuns.py:107\u001b[0m, in \u001b[0;36mCKE_two_sample_test.__call__\u001b[0;34m(self, num_permutations, return_stats)\u001b[0m\n\u001b[1;32m    105\u001b[0m     reordered_kernel \u001b[38;5;241m=\u001b[39m \u001b[38;5;28mself\u001b[39m\u001b[38;5;241m.\u001b[39mkernel_matrix[permuted_indices][:, permuted_indices]\n\u001b[1;32m    106\u001b[0m     _kxx \u001b[38;5;241m=\u001b[39m reordered_kernel[:n, :n] ; _kyy \u001b[38;5;241m=\u001b[39m reordered_kernel[n:, n:]; _kxy \u001b[38;5;241m=\u001b[39m reordered_kernel[:n, n:]\n\u001b[0;32m--> 107\u001b[0m     _KX, _KX_ED, _KY, _KY_ED \u001b[38;5;241m=\u001b[39m \u001b[43mget_Kmats_X_Y\u001b[49m\u001b[43m(\u001b[49m\u001b[43m_kxx\u001b[49m\u001b[43m,\u001b[49m\u001b[43m \u001b[49m\u001b[43m_kxy\u001b[49m\u001b[43m,\u001b[49m\u001b[43m \u001b[49m\u001b[43m_kyy\u001b[49m\u001b[43m,\u001b[49m\u001b[43m \u001b[49m\u001b[38;5;28;43mself\u001b[39;49m\u001b[38;5;241;43m.\u001b[39;49m\u001b[43mkappa_K\u001b[49m\u001b[43m)\u001b[49m\n\u001b[1;32m    108\u001b[0m     permuted_stats\u001b[38;5;241m.\u001b[39mappend(CovKerEmb_test_stat(\u001b[38;5;28mself\u001b[39m\u001b[38;5;241m.\u001b[39mtest_name, _KX, _KY, _KX_ED, _KY_ED))\n\u001b[1;32m    110\u001b[0m p_value \u001b[38;5;241m=\u001b[39m \u001b[38;5;28mfloat\u001b[39m(np\u001b[38;5;241m.\u001b[39mmean(permuted_stats \u001b[38;5;241m>\u001b[39m \u001b[38;5;28mself\u001b[39m\u001b[38;5;241m.\u001b[39mobs_value))\n",
      "File \u001b[0;32m~/Documents/GitHub/CKE/functions/tools.py:18\u001b[0m, in \u001b[0;36mget_Kmats_X_Y\u001b[0;34m(kxx, kxy, kyy, regularisation_param)\u001b[0m\n\u001b[1;32m     15\u001b[0m KY \u001b[38;5;241m=\u001b[39m KmatY \u001b[38;5;241m@\u001b[39m (KmatY\u001b[38;5;241m.\u001b[39mT) \u001b[38;5;241m/\u001b[39m n\n\u001b[1;32m     17\u001b[0m \u001b[38;5;66;03m# regularize_with_condition_number_byRidge, regularize_with_condition_number_byTruncation, regularize_with_ridge\u001b[39;00m\n\u001b[0;32m---> 18\u001b[0m KX, KX_ED \u001b[38;5;241m=\u001b[39m \u001b[43mregularize_with_condition_number_byRidge\u001b[49m\u001b[43m(\u001b[49m\u001b[43mKX\u001b[49m\u001b[43m,\u001b[49m\u001b[43m \u001b[49m\u001b[43mregularisation_param\u001b[49m\u001b[43m)\u001b[49m\n\u001b[1;32m     19\u001b[0m KY, KY_ED \u001b[38;5;241m=\u001b[39m regularize_with_condition_number_byRidge(KY, regularisation_param)\n\u001b[1;32m     21\u001b[0m \u001b[38;5;28;01mreturn\u001b[39;00m KX, KX_ED, KY, KY_ED\n",
      "File \u001b[0;32m~/Documents/GitHub/CKE/functions/tools.py:101\u001b[0m, in \u001b[0;36mregularize_with_condition_number_byRidge\u001b[0;34m(A, max_condition_number)\u001b[0m\n\u001b[1;32m     99\u001b[0m \u001b[38;5;129m@profile\u001b[39m\n\u001b[1;32m    100\u001b[0m \u001b[38;5;28;01mdef\u001b[39;00m \u001b[38;5;21mregularize_with_condition_number_byRidge\u001b[39m(A, max_condition_number):\n\u001b[0;32m--> 101\u001b[0m     S, U  \u001b[38;5;241m=\u001b[39m \u001b[43mEIG_DEC\u001b[49m\u001b[43m(\u001b[49m\u001b[43mA\u001b[49m\u001b[43m)\u001b[49m\n\u001b[1;32m    102\u001b[0m     \u001b[38;5;66;03m# cond_num = S[-1]/S[0]\u001b[39;00m\n\u001b[1;32m    103\u001b[0m     cond_num \u001b[38;5;241m=\u001b[39m S\u001b[38;5;241m.\u001b[39mmax()\u001b[38;5;241m/\u001b[39mS\u001b[38;5;241m.\u001b[39mmin()\n",
      "File \u001b[0;32m~/Documents/GitHub/CKE/functions/tools.py:36\u001b[0m, in \u001b[0;36mEIG_DEC\u001b[0;34m(A)\u001b[0m\n\u001b[1;32m     33\u001b[0m \u001b[38;5;129m@profile\u001b[39m\n\u001b[1;32m     34\u001b[0m \u001b[38;5;28;01mdef\u001b[39;00m \u001b[38;5;21mEIG_DEC\u001b[39m(A):\n\u001b[1;32m     35\u001b[0m     \u001b[38;5;66;03m#assert np.allclose(A, A.T), \"Matrix is not symmetric\"\u001b[39;00m\n\u001b[0;32m---> 36\u001b[0m     eigvals, eigvecs \u001b[38;5;241m=\u001b[39m \u001b[43mLA\u001b[49m\u001b[38;5;241;43m.\u001b[39;49m\u001b[43meigh\u001b[49m\u001b[43m(\u001b[49m\u001b[43mA\u001b[49m\u001b[43m)\u001b[49m\n\u001b[1;32m     37\u001b[0m     S \u001b[38;5;241m=\u001b[39m np\u001b[38;5;241m.\u001b[39mclip(eigvals, min_val_to_clip, \u001b[38;5;28;01mNone\u001b[39;00m)\n\u001b[1;32m     38\u001b[0m     U \u001b[38;5;241m=\u001b[39m eigvecs\n",
      "File \u001b[0;32m~/Documents/GitHub/CKE/.venv/lib/python3.11/site-packages/scipy/_lib/deprecation.py:213\u001b[0m, in \u001b[0;36m_deprecate_positional_args.<locals>._inner_deprecate_positional_args.<locals>.inner_f\u001b[0;34m(*args, **kwargs)\u001b[0m\n\u001b[1;32m    211\u001b[0m extra_args \u001b[38;5;241m=\u001b[39m \u001b[38;5;28mlen\u001b[39m(args) \u001b[38;5;241m-\u001b[39m \u001b[38;5;28mlen\u001b[39m(all_args)\n\u001b[1;32m    212\u001b[0m \u001b[38;5;28;01mif\u001b[39;00m extra_args \u001b[38;5;241m<\u001b[39m\u001b[38;5;241m=\u001b[39m \u001b[38;5;241m0\u001b[39m:\n\u001b[0;32m--> 213\u001b[0m     \u001b[38;5;28;01mreturn\u001b[39;00m \u001b[43mf\u001b[49m\u001b[43m(\u001b[49m\u001b[38;5;241;43m*\u001b[39;49m\u001b[43margs\u001b[49m\u001b[43m,\u001b[49m\u001b[43m \u001b[49m\u001b[38;5;241;43m*\u001b[39;49m\u001b[38;5;241;43m*\u001b[39;49m\u001b[43mkwargs\u001b[49m\u001b[43m)\u001b[49m\n\u001b[1;32m    215\u001b[0m \u001b[38;5;66;03m# extra_args > 0\u001b[39;00m\n\u001b[1;32m    216\u001b[0m args_msg \u001b[38;5;241m=\u001b[39m [\n\u001b[1;32m    217\u001b[0m     \u001b[38;5;124mf\u001b[39m\u001b[38;5;124m\"\u001b[39m\u001b[38;5;132;01m{\u001b[39;00mname\u001b[38;5;132;01m}\u001b[39;00m\u001b[38;5;124m=\u001b[39m\u001b[38;5;132;01m{\u001b[39;00marg\u001b[38;5;132;01m}\u001b[39;00m\u001b[38;5;124m\"\u001b[39m\n\u001b[1;32m    218\u001b[0m     \u001b[38;5;28;01mfor\u001b[39;00m name, arg \u001b[38;5;129;01min\u001b[39;00m \u001b[38;5;28mzip\u001b[39m(kwonly_args[:extra_args], args[\u001b[38;5;241m-\u001b[39mextra_args:])\n\u001b[1;32m    219\u001b[0m ]\n",
      "File \u001b[0;32m~/Documents/GitHub/CKE/.venv/lib/python3.11/site-packages/scipy/linalg/_decomp.py:560\u001b[0m, in \u001b[0;36meigh\u001b[0;34m(a, b, lower, eigvals_only, overwrite_a, overwrite_b, turbo, eigvals, type, check_finite, subset_by_index, subset_by_value, driver)\u001b[0m\n\u001b[1;32m    557\u001b[0m         lwork_args \u001b[38;5;241m=\u001b[39m {\u001b[38;5;124m'\u001b[39m\u001b[38;5;124mlwork\u001b[39m\u001b[38;5;124m'\u001b[39m: lw}\n\u001b[1;32m    559\u001b[0m     drv_args\u001b[38;5;241m.\u001b[39mupdate({\u001b[38;5;124m'\u001b[39m\u001b[38;5;124mlower\u001b[39m\u001b[38;5;124m'\u001b[39m: lower, \u001b[38;5;124m'\u001b[39m\u001b[38;5;124mcompute_v\u001b[39m\u001b[38;5;124m'\u001b[39m: \u001b[38;5;241m0\u001b[39m \u001b[38;5;28;01mif\u001b[39;00m _job \u001b[38;5;241m==\u001b[39m \u001b[38;5;124m\"\u001b[39m\u001b[38;5;124mN\u001b[39m\u001b[38;5;124m\"\u001b[39m \u001b[38;5;28;01melse\u001b[39;00m \u001b[38;5;241m1\u001b[39m})\n\u001b[0;32m--> 560\u001b[0m     w, v, \u001b[38;5;241m*\u001b[39mother_args, info \u001b[38;5;241m=\u001b[39m \u001b[43mdrv\u001b[49m\u001b[43m(\u001b[49m\u001b[43ma\u001b[49m\u001b[38;5;241;43m=\u001b[39;49m\u001b[43ma1\u001b[49m\u001b[43m,\u001b[49m\u001b[43m \u001b[49m\u001b[38;5;241;43m*\u001b[39;49m\u001b[38;5;241;43m*\u001b[39;49m\u001b[43mdrv_args\u001b[49m\u001b[43m,\u001b[49m\u001b[43m \u001b[49m\u001b[38;5;241;43m*\u001b[39;49m\u001b[38;5;241;43m*\u001b[39;49m\u001b[43mlwork_args\u001b[49m\u001b[43m)\u001b[49m\n\u001b[1;32m    562\u001b[0m \u001b[38;5;28;01melse\u001b[39;00m:  \u001b[38;5;66;03m# Generalized problem\u001b[39;00m\n\u001b[1;32m    563\u001b[0m     \u001b[38;5;66;03m# 'gvd' doesn't have lwork query\u001b[39;00m\n\u001b[1;32m    564\u001b[0m     \u001b[38;5;28;01mif\u001b[39;00m driver \u001b[38;5;241m==\u001b[39m \u001b[38;5;124m\"\u001b[39m\u001b[38;5;124mgvd\u001b[39m\u001b[38;5;124m\"\u001b[39m:\n",
      "\u001b[0;31mKeyboardInterrupt\u001b[0m: "
     ]
    }
   ],
   "source": [
    "num_replications = 10\n",
    "num_samples = 50\n",
    "num_permutations = 1000\n",
    "\n",
    "from collections import defaultdict\n",
    "mmd_tests = defaultdict(list); cke_tests = defaultdict(list)\n",
    "for x_num in tqdm(range(5), position=0):\n",
    "    for y_num in tqdm(range(x_num, 5), position=1, leave=False):\n",
    "        for rep in range(num_replications):\n",
    "            X = mnist_data_train.loc[x_num].sample(num_samples).values\n",
    "            Y = mnist_data_train.loc[y_num].sample(num_samples).values\n",
    "\n",
    "            MMD_p_value = MMD_two_sample_test(X,Y)(num_permutations)\n",
    "            mmd_tests[(x_num, y_num)].append(1 if MMD_p_value < 0.05 else 0)\n",
    "            mmd_tests[(y_num , x_num)].append(1 if MMD_p_value < 0.05 else 0)\n",
    "\n",
    "            CKE_p_value = CKE_two_sample_test(X,Y)(num_permutations)\n",
    "            cke_tests[(x_num, y_num)].append(1 if CKE_p_value < 0.05 else 0)\n",
    "            cke_tests[(y_num , x_num)].append(1 if CKE_p_value < 0.05 else 0)\n",
    "\n",
    "\n",
    "\n",
    "MMD_matrix = np.zeros((10, 10)); CKE_matrix = np.zeros((10, 10))\n",
    "for i, x_num in enumerate(range(10)):\n",
    "    for j, y_num in enumerate(range(10)):\n",
    "        CKE_matrix[i, j] = sum(cke_tests[(x_num, y_num)]) / num_replications;   \n",
    "        MMD_matrix[i, j] = sum(mmd_tests[(x_num, y_num)]) / num_replications;  \n",
    "\n",
    "\n",
    "\n",
    "fig, [axMMD, axCKE] = plt.subplots(1, 2, figsize=(12, 6))\n",
    "vmin = 0; vmax = 1\n",
    "sns.heatmap(MMD_matrix, annot=True, ax=axMMD, cmap='coolwarm', cbar=False, vmin=vmin, vmax=vmax)\n",
    "sns.heatmap(CKE_matrix, annot=True, ax=axCKE, cmap='coolwarm', cbar=False, vmin=vmin, vmax=vmax)\n",
    "axMMD.set_title('MMD')\n",
    "axCKE.set_title('CKE')"
   ]
  },
  {
   "cell_type": "code",
   "execution_count": null,
   "metadata": {},
   "outputs": [],
   "source": []
  },
  {
   "cell_type": "markdown",
   "metadata": {},
   "source": [
    "----"
   ]
  },
  {
   "cell_type": "code",
   "execution_count": 52,
   "metadata": {},
   "outputs": [
    {
     "name": "stderr",
     "output_type": "stream",
     "text": [
      "100%|██████████| 20/20 [04:34<00:00, 13.72s/it]\n"
     ]
    },
    {
     "data": {
      "image/png": "[encoded data removed]",
      "text/plain": [
       "<Figure size 640x480 with 1 Axes>"
      ]
     },
     "metadata": {},
     "output_type": "display_data"
    },
    {
     "name": "stdout",
     "output_type": "stream",
     "text": [
      "1.0\n",
      "1.0\n"
     ]
    }
   ],
   "source": [
    "num_permutations = 1009\n",
    "n_samples = 50\n",
    "mmd_pvals = []; cke_pvals = []\n",
    "x_num = 4; y_num = 1\n",
    "# x_num = 9; y_num = 5\n",
    "\n",
    "nexp = 20\n",
    "for _ in tqdm(range(nexp)):\n",
    "    X = mnist_data_train.loc[x_num].sample(n_samples).values\n",
    "    Y = mnist_data_train.loc[y_num].sample(n_samples).values\n",
    "    \n",
    "    mmd_pvals.append(MMD_two_sample_test(X,Y)(num_permutations))\n",
    "    cke_pvals.append(CKE_two_sample_test(X,Y, kappa_K = 1000)(num_permutations))\n",
    "\n",
    "plt.hist(mmd_pvals, bins = 20, alpha = 0.5, label = 'MMD')\n",
    "plt.hist(cke_pvals, bins = 20, alpha = 0.5, label = 'CKE')\n",
    "plt.legend()\n",
    "plt.show()\n",
    "\n",
    "print(sum([_<.05 for _ in mmd_pvals]) / len(mmd_pvals))\n",
    "print(sum([_<.05 for _ in cke_pvals]) / len(cke_pvals))\n"
   ]
  },
  {
   "cell_type": "code",
   "execution_count": null,
   "metadata": {},
   "outputs": [],
   "source": []
  },
  {
   "cell_type": "code",
   "execution_count": 18,
   "metadata": {},
   "outputs": [
    {
     "name": "stderr",
     "output_type": "stream",
     "text": [
      "100%|██████████| 10/10 [00:13<00:00,  1.37s/it]\n"
     ]
    }
   ],
   "source": [
    "bc_control = pd.DataFrame(data['data'][data['target'] == 0])\n",
    "bc_study = pd.DataFrame(data['data'][data['target'] == 1])\n",
    "\n",
    "num_permutations = 500\n",
    "n_samples = 50\n",
    "mmd_pvals = []; cke_pvals = []\n",
    "\n",
    "for _ in tqdm(range(10)):\n",
    "    X = bc_control.sample(n_samples).values\n",
    "    Y =bc_study.sample(n_samples).values\n",
    "    mmd_pvals.append(MMD_two_sample_test(X,Y)(num_permutations))\n",
    "    cke_pvals.append(CKE_two_sample_test(X,Y, kappa_K = 1000)(num_permutations))\n",
    "\n",
    "print('MMD : {}'.format(np.mean(mmd_pvals)))\n",
    "print('CKE : {}'.format(np.mean(cke_pvals)))\n"
   ]
  }
 ],
 "metadata": {
  "kernelspec": {
   "display_name": ".venv",
   "language": "python",
   "name": "python3"
  },
  "language_info": {
   "codemirror_mode": {
    "name": "ipython",
    "version": 3
   },
   "file_extension": ".py",
   "mimetype": "text/x-python",
   "name": "python",
   "nbconvert_exporter": "python",
   "pygments_lexer": "ipython3",
   "version": "3.11.5"
  }
 },
 "nbformat": 4,
 "nbformat_minor": 2
}
